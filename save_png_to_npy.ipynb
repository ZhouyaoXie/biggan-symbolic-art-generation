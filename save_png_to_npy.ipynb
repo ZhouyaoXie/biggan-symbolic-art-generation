{
 "cells": [
  {
   "cell_type": "code",
   "execution_count": 12,
   "metadata": {},
   "outputs": [],
   "source": [
    "import os\n",
    "import numpy as np\n",
    "\n",
    "from PIL import Image                                              \n",
    "from PIL import ImageFile"
   ]
  },
  {
   "cell_type": "code",
   "execution_count": 31,
   "metadata": {},
   "outputs": [],
   "source": [
    "lst = []\n",
    "for f in os.listdir(\"X:/Master/2022Spring/10615/small-dataset-image-generation/dataset/abstract/\"):\n",
    "    if '.jpg' in f:\n",
    "        im = Image.open(\"X:/Master/2022Spring/10615/small-dataset-image-generation/dataset/abstract/\" + f)\n",
    "        im = im.resize((256,256))\n",
    "        rgb_im = im.convert('RGB')\n",
    "        im = np.swapaxes(np.array(rgb_im),0,2)\n",
    "        lst.append(im)\n",
    "lst = np.array(lst)"
   ]
  },
  {
   "cell_type": "code",
   "execution_count": 32,
   "metadata": {},
   "outputs": [],
   "source": [
    "with open(\"X:/Master/2022Spring/10615/small-dataset-image-generation/dataset/abstract/data.npy\", \"wb\") as f:\n",
    "    np.save(f, lst)"
   ]
  },
  {
   "cell_type": "code",
   "execution_count": null,
   "metadata": {},
   "outputs": [],
   "source": [
    "lst.shape"
   ]
  }
 ],
 "metadata": {
  "kernelspec": {
   "display_name": "Python 3",
   "language": "python",
   "name": "python3"
  },
  "language_info": {
   "codemirror_mode": {
    "name": "ipython",
    "version": 3
   },
   "file_extension": ".py",
   "mimetype": "text/x-python",
   "name": "python",
   "nbconvert_exporter": "python",
   "pygments_lexer": "ipython3",
   "version": "3.8.5"
  }
 },
 "nbformat": 4,
 "nbformat_minor": 4
}
